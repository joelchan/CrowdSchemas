{
 "metadata": {
  "name": ""
 },
 "nbformat": 3,
 "nbformat_minor": 0,
 "worksheets": [
  {
   "cells": [
    {
     "cell_type": "code",
     "collapsed": false,
     "input": [
      "from nltk.corpus import wordnet as wn\n",
      "from copy import deepcopy\n",
      "from operator import mul\n",
      "import numpy as np\n",
      "import itertools as it\n",
      "import os, csv"
     ],
     "language": "python",
     "metadata": {},
     "outputs": [],
     "prompt_number": 42
    },
    {
     "cell_type": "code",
     "collapsed": false,
     "input": [
      "class enhancedWord:\n",
      "    def __init__(self, synset, level, weight):\n",
      "        self.synset = synset\n",
      "        self.level = level\n",
      "        self.weight = weight\n",
      "    def __str__(self):\n",
      "        return self.synset.name + \" with level \" + str(self.level) + \" and weight \" + str(self.weight)"
     ],
     "language": "python",
     "metadata": {},
     "outputs": [],
     "prompt_number": 2
    },
    {
     "cell_type": "code",
     "collapsed": false,
     "input": [
      "class rawWord:\n",
      "    def __init__(self, label, posTag, weight):\n",
      "        self.label = label\n",
      "        self.pos = get_wordnet_pos(posTag)\n",
      "        self.weight = weight\n",
      "        self.expansions = []\n",
      "    def __str__(self):\n",
      "        return self.label"
     ],
     "language": "python",
     "metadata": {},
     "outputs": [],
     "prompt_number": 5
    },
    {
     "cell_type": "code",
     "collapsed": false,
     "input": [
      "def get_wordnet_pos(treebank_tag):\n",
      "\t\"\"\"\n",
      "\thelper method to convert treebank tags\n",
      "\tinto wordnet pos tags for query expansion\n",
      "\t\"\"\"\n",
      "\tif treebank_tag.startswith('J'):\n",
      "\t\treturn wn.ADJ\n",
      "\telif treebank_tag.startswith('V'):\n",
      "\t\treturn wn.VERB\n",
      "\telif treebank_tag.startswith('N'):\n",
      "\t\treturn wn.NOUN\n",
      "\telif treebank_tag.startswith('R'):\n",
      "\t\treturn wn.ADV\n",
      "\telse:\n",
      "\t\treturn ''"
     ],
     "language": "python",
     "metadata": {},
     "outputs": [],
     "prompt_number": 4
    },
    {
     "cell_type": "code",
     "collapsed": false,
     "input": [
      "def expand_words(words):\n",
      "    for item in words:\n",
      "        synonyms = set()\n",
      "        synsets = wn.synsets(item.label,item.pos)\n",
      "        itemWeight = item.weight # divide weight among the synonyms? maybe item.weight/len(synsets)\n",
      "        for synset in synsets:\n",
      "            synonyms.add(enhancedWord(synset,1,itemWeight))\n",
      "            \n",
      "        # get derivationally related forms for \"properties\"\n",
      "        derivations = set()\n",
      "        for synonym in synonyms:\n",
      "            if synonym.synset.pos == 's':\n",
      "                for lemma in synonym.synset.lemmas:\n",
      "                    for form in lemma.derivationally_related_forms():\n",
      "                        derivations.add(enhancedWord(form.synset,1,synonym.weight))\n",
      "        synonyms.update(derivations)\n",
      "        \n",
      "        # add to master\n",
      "        expandedWords = set(synonyms)\n",
      "        nextStack = set(synonyms)\n",
      "        level = 2\n",
      "        while(len(nextStack)):\n",
      "            currentStack = set(nextStack)\n",
      "            nextStack.clear()\n",
      "            \n",
      "            # get all hypernyms, put in nextStack\n",
      "            for s in currentStack:\n",
      "                for hypernym in s.synset.hypernyms():\n",
      "                    nextStack.add(enhancedWord(hypernym,level,s.weight))\n",
      "                    expandedWords.add(enhancedWord(hypernym,level,s.weight))\n",
      "            level += 1\n",
      "        \n",
      "        item.expansions = sorted(list(expandedWords),key=lambda x: x.level)\n",
      "    return words"
     ],
     "language": "python",
     "metadata": {},
     "outputs": [],
     "prompt_number": 25
    },
    {
     "cell_type": "code",
     "collapsed": false,
     "input": [
      "class pathSim:\n",
      "    def __init__(self, pair, path, scoreRaw, scoreWeighted):\n",
      "        self.pair = str(pair)\n",
      "        self.path = str(path)\n",
      "        self.scoreRaw = scoreRaw\n",
      "        self.pathLength = int(1/scoreRaw)\n",
      "        self.scoreWeighted = scoreWeighted\n",
      "    def __str__(self):\n",
      "        return \"Wordpair: %s\\nPath is FROM %s\\nRaw path length: %i\\nWeighted path similarity: %.2f\" %(self.pair, self.path, self.pathLength, self.scoreWeighted)"
     ],
     "language": "python",
     "metadata": {},
     "outputs": [],
     "prompt_number": 38
    },
    {
     "cell_type": "code",
     "collapsed": false,
     "input": [
      "def sum_top(sims,n):\n",
      "    \"\"\"\n",
      "    sims is list of similarities\n",
      "    \"\"\"\n",
      "    top = sorted(sims,key=lambda x: x.scoreWeighted, reverse=True)[:n]\n",
      "    topSims = [t.scoreWeighted for t in top]\n",
      "    return sum(topSims)"
     ],
     "language": "python",
     "metadata": {},
     "outputs": [],
     "prompt_number": 8
    },
    {
     "cell_type": "code",
     "collapsed": false,
     "input": [
      "def product_top(sims,n):\n",
      "    \"\"\"\n",
      "    sims is list of similarities\n",
      "    \"\"\"\n",
      "    top = sorted(sims,key=lambda x: x.scoreWeighted, reverse=True)[:n]\n",
      "    topSims = [t.scoreWeighted for t in top]\n",
      "    p = 1\n",
      "    for s in topSims:\n",
      "        p*=s\n",
      "    return p"
     ],
     "language": "python",
     "metadata": {},
     "outputs": [],
     "prompt_number": 46
    },
    {
     "cell_type": "code",
     "collapsed": false,
     "input": [
      "def find_paths(words1,words2):\n",
      "    \"\"\"\n",
      "    words1 and words2 are lists of rawWords\n",
      "    \"\"\"\n",
      "    paths = []\n",
      "    \n",
      "    # first expand with synonyms\n",
      "    words1 = expand_words(words1)\n",
      "    words2 = expand_words(words2)\n",
      "    \n",
      "    wordCombos = [c for c in it.product(words1,words2)]\n",
      "    for wordCombo in wordCombos:\n",
      "        pathCombos = [c for c in it.product(wordCombo[0].expansions, wordCombo[1].expansions)]\n",
      "        champion = pathSim(\"null\",\"null\",0.1,0.0)\n",
      "        for pathCombo in pathCombos:\n",
      "            word1 = pathCombo[0]\n",
      "            word2 = pathCombo[1]\n",
      "            if word1.synset.pos == word2.synset.pos: # only try and find shortest paths between same POS\n",
      "                # find shortest path between word, weight by height in hypernym hierarchy\n",
      "                simRaw = word1.synset.path_similarity(word2.synset)\n",
      "                levelWeight = 1.0/np.mean([word1.level, word2.level])\n",
      "                weight = np.mean([word1.weight, word2.weight])\n",
      "                if simRaw is not None:\n",
      "                    pair = \"%s to %s\" %(wordCombo[0].label, wordCombo[1].label)\n",
      "                    simWeighted = simRaw*levelWeight*weight\n",
      "                    path = \"%s TO %s\" %(word1.synset.name, word2.synset.name)\n",
      "                    # paths.append(((word1.synset.name,word2.synset.name),sim*weight*levelWeight))\n",
      "                    # paths.append(pathSim(path,simRaw,simWeighted))\n",
      "                    pathsim = pathSim(pair,path,simRaw,simWeighted)\n",
      "                    if pathsim.scoreWeighted > champion.scoreWeighted:\n",
      "                        champion = deepcopy(pathsim)\n",
      "                #else:\n",
      "                #    paths.append(0)\n",
      "        paths.append(champion)\n",
      "    if len(paths):\n",
      "        return sorted(paths, key=lambda x: x.scoreWeighted, reverse=True)\n",
      "    else:\n",
      "        return []"
     ],
     "language": "python",
     "metadata": {},
     "outputs": [],
     "prompt_number": 34
    },
    {
     "cell_type": "code",
     "collapsed": false,
     "input": [
      "words1 = [rawWord(\"fetch\", \"V\", 0.79),\n",
      "          rawWord(\"fish\", \"V\", 0.02),\n",
      "          rawWord(\"control\", \"V\", 0.99)]\n",
      "words2 = [rawWord(\"retrieve\", \"V\", 0.85),\n",
      "          rawWord(\"slam\", \"V\", 0.10),\n",
      "          rawWord(\"stabilize\", \"V\", 0.77)]\n",
      "words3 = [rawWord(\"dive\", \"V\", 0.33),\n",
      "          rawWord(\"flee\", \"V\", 0.79),\n",
      "          rawWord(\"bury\", \"V\", 0.33)]"
     ],
     "language": "python",
     "metadata": {},
     "outputs": [],
     "prompt_number": 14
    },
    {
     "cell_type": "code",
     "collapsed": false,
     "input": [
      "similarPath = find_paths(words1,words2)\n",
      "differentPath = find_paths(words1,words3)"
     ],
     "language": "python",
     "metadata": {},
     "outputs": [],
     "prompt_number": 39
    },
    {
     "cell_type": "code",
     "collapsed": false,
     "input": [
      "print \"Similar: %.2f\" %sum_top(similarPath,10)\n",
      "print \"Different: %.2f\" %sum_top(differentPath,10)"
     ],
     "language": "python",
     "metadata": {},
     "outputs": [
      {
       "output_type": "stream",
       "stream": "stdout",
       "text": [
        "Similar: 1.75\n",
        "Different: 1.13\n"
       ]
      }
     ],
     "prompt_number": 40
    },
    {
     "cell_type": "code",
     "collapsed": false,
     "input": [
      "print \"Similar: %.2f\" %product_top(similarPath,10)\n",
      "print \"Different: %.2f\" %product_top(differentPath,10)"
     ],
     "language": "python",
     "metadata": {},
     "outputs": [
      {
       "output_type": "stream",
       "stream": "stdout",
       "text": [
        "Similar: 0.00\n",
        "Different: 0.00\n"
       ]
      }
     ],
     "prompt_number": 47
    },
    {
     "cell_type": "code",
     "collapsed": false,
     "input": [
      "print \"Similar:\"\n",
      "for path in similarPath[:5]:\n",
      "    print path\n",
      "print \"Different:\"\n",
      "for path in differentPath[:5]:\n",
      "    print path"
     ],
     "language": "python",
     "metadata": {},
     "outputs": [
      {
       "output_type": "stream",
       "stream": "stdout",
       "text": [
        "Similar:\n",
        "Wordpair: fetch to retrieve\n",
        "Path is FROM bring.v.04 TO bring.v.04\n",
        "Raw path length: 1\n",
        "Weighted path similarity: 0.55\n",
        "Wordpair: control to retrieve\n",
        "Path is FROM control.v.01 TO remember.v.01\n",
        "Raw path length: 3\n",
        "Weighted path similarity: 0.31\n",
        "Wordpair: control to stabilize\n",
        "Path is FROM control.v.01 TO stabilize.v.01\n",
        "Raw path length: 4\n",
        "Weighted path similarity: 0.22\n",
        "Wordpair: fetch to stabilize\n",
        "Path is FROM fetch.v.02 TO stabilize.v.01\n",
        "Raw path length: 4\n",
        "Weighted path similarity: 0.20\n",
        "Wordpair: control to slam\n",
        "Path is FROM touch.v.01 TO touch.v.01\n",
        "Raw path length: 1\n",
        "Weighted path similarity: 0.16\n",
        "Different:\n",
        "Wordpair: control to bury\n",
        "Path is FROM control.v.01 TO forget.v.01\n",
        "Raw path length: 3\n",
        "Weighted path similarity: 0.22\n",
        "Wordpair: fetch to bury\n",
        "Path is FROM fetch.v.02 TO forget.v.01\n",
        "Raw path length: 3\n",
        "Weighted path similarity: 0.19\n",
        "Wordpair: control to flee\n",
        "Path is FROM control.v.01 TO flee.v.01\n",
        "Raw path length: 5\n",
        "Weighted path similarity: 0.18\n",
        "Wordpair: fetch to flee\n",
        "Path is FROM fetch.v.02 TO flee.v.01\n",
        "Raw path length: 5\n",
        "Weighted path similarity: 0.16\n",
        "Wordpair: control to dive\n",
        "Path is FROM control.v.01 TO dive.v.03\n",
        "Raw path length: 5\n",
        "Weighted path similarity: 0.13\n"
       ]
      }
     ],
     "prompt_number": 41
    },
    {
     "cell_type": "code",
     "collapsed": false,
     "input": [
      "print similarPath[:10]"
     ],
     "language": "python",
     "metadata": {},
     "outputs": [
      {
       "output_type": "stream",
       "stream": "stdout",
       "text": [
        "[<__main__.pathSim instance at 0x10f531998>, <__main__.pathSim instance at 0x10f531a70>, <__main__.pathSim instance at 0x10f5316c8>, <__main__.pathSim instance at 0x10f531830>, <__main__.pathSim instance at 0x10f734cf8>, <__main__.pathSim instance at 0x10f734dd0>, <__main__.pathSim instance at 0x10f537c20>, <__main__.pathSim instance at 0x10f534d88>, <__main__.pathSim instance at 0x10f73f7e8>, <__main__.pathSim instance at 0x10f73f878>]\n"
       ]
      }
     ],
     "prompt_number": 27
    },
    {
     "cell_type": "code",
     "collapsed": false,
     "input": [],
     "language": "python",
     "metadata": {},
     "outputs": []
    }
   ],
   "metadata": {}
  }
 ]
}